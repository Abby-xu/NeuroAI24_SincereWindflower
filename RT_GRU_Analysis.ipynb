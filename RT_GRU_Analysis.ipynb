{
 "cells": [
  {
   "cell_type": "code",
   "execution_count": null,
   "metadata": {},
   "outputs": [],
   "source": [
    "import pickle\n",
    "import os \n",
    "\n",
    "Model_dir = os.path.join(os.getcwd(), \"Models\", \"models_RT_GRU_128\")\n",
    "\n"
   ]
  },
  {
   "cell_type": "code",
   "execution_count": 6,
   "metadata": {},
   "outputs": [
    {
     "ename": "TypeError",
     "evalue": "expected str, bytes or os.PathLike object, not NoneType",
     "output_type": "error",
     "traceback": [
      "\u001b[0;31m---------------------------------------------------------------------------\u001b[0m",
      "\u001b[0;31mTypeError\u001b[0m                                 Traceback (most recent call last)",
      "\u001b[1;32m/home/juanpbotero/Projects/NMA-NeuroAI/NeuroAI24_SincereWindflower/RT_GRU_Analysis.ipynb Cell 2\u001b[0m line \u001b[0;36m9\n\u001b[1;32m      <a href='vscode-notebook-cell://wsl%2Bubuntu/home/juanpbotero/Projects/NMA-NeuroAI/NeuroAI24_SincereWindflower/RT_GRU_Analysis.ipynb#W3sdnNjb2RlLXJlbW90ZQ%3D%3D?line=6'>7</a>\u001b[0m Model_path \u001b[39m=\u001b[39m os\u001b[39m.\u001b[39mpath\u001b[39m.\u001b[39mjoin(os\u001b[39m.\u001b[39mgetcwd(), \u001b[39m\"\u001b[39m\u001b[39mModels\u001b[39m\u001b[39m\"\u001b[39m, \u001b[39m\"\u001b[39m\u001b[39mmodels_RT_GRU_128\u001b[39m\u001b[39m\"\u001b[39m,\u001b[39m'\u001b[39m\u001b[39m'\u001b[39m)\n\u001b[1;32m      <a href='vscode-notebook-cell://wsl%2Bubuntu/home/juanpbotero/Projects/NMA-NeuroAI/NeuroAI24_SincereWindflower/RT_GRU_Analysis.ipynb#W3sdnNjb2RlLXJlbW90ZQ%3D%3D?line=7'>8</a>\u001b[0m \u001b[39m# Create the analysis object:\u001b[39;00m\n\u001b[0;32m----> <a href='vscode-notebook-cell://wsl%2Bubuntu/home/juanpbotero/Projects/NMA-NeuroAI/NeuroAI24_SincereWindflower/RT_GRU_Analysis.ipynb#W3sdnNjb2RlLXJlbW90ZQ%3D%3D?line=8'>9</a>\u001b[0m analysis_RT_GRU_128 \u001b[39m=\u001b[39m Analysis_TT(run_name \u001b[39m=\u001b[39;49m \u001b[39m\"\u001b[39;49m\u001b[39mGRU_128_RT\u001b[39;49m\u001b[39m\"\u001b[39;49m, filepath \u001b[39m=\u001b[39;49m Model_path)\n",
      "File \u001b[0;32m~/Projects/NMA-NeuroAI/ComputationThruDynamicsBenchmark/ctd/comparison/analysis/tt/tt.py:24\u001b[0m, in \u001b[0;36mAnalysis_TT.__init__\u001b[0;34m(self, run_name, filepath, use_train_dm)\u001b[0m\n\u001b[1;32m     22\u001b[0m \u001b[39msuper\u001b[39m()\u001b[39m.\u001b[39m\u001b[39m__init__\u001b[39m(run_name, filepath)\n\u001b[1;32m     23\u001b[0m \u001b[39mself\u001b[39m\u001b[39m.\u001b[39mtt_or_dt \u001b[39m=\u001b[39m \u001b[39m\"\u001b[39m\u001b[39mtt\u001b[39m\u001b[39m\"\u001b[39m\n\u001b[0;32m---> 24\u001b[0m \u001b[39mself\u001b[39;49m\u001b[39m.\u001b[39;49mload_wrapper(filepath, use_train_dm)\n\u001b[1;32m     25\u001b[0m \u001b[39mself\u001b[39m\u001b[39m.\u001b[39mrun_hps \u001b[39m=\u001b[39m \u001b[39mNone\u001b[39;00m\n",
      "File \u001b[0;32m~/Projects/NMA-NeuroAI/ComputationThruDynamicsBenchmark/ctd/comparison/analysis/tt/tt.py:41\u001b[0m, in \u001b[0;36mAnalysis_TT.load_wrapper\u001b[0;34m(self, filepath, use_train_dm)\u001b[0m\n\u001b[1;32m     39\u001b[0m     \u001b[39mwith\u001b[39;00m \u001b[39mopen\u001b[39m(filepath \u001b[39m+\u001b[39m \u001b[39m\"\u001b[39m\u001b[39mdatamodule_sim.pkl\u001b[39m\u001b[39m\"\u001b[39m, \u001b[39m\"\u001b[39m\u001b[39mrb\u001b[39m\u001b[39m\"\u001b[39m) \u001b[39mas\u001b[39;00m f:\n\u001b[1;32m     40\u001b[0m         \u001b[39mself\u001b[39m\u001b[39m.\u001b[39mdatamodule \u001b[39m=\u001b[39m pickle\u001b[39m.\u001b[39mload(f)\n\u001b[0;32m---> 41\u001b[0m         \u001b[39mself\u001b[39;49m\u001b[39m.\u001b[39;49mdatamodule\u001b[39m.\u001b[39;49mprepare_data()\n\u001b[1;32m     42\u001b[0m         \u001b[39mself\u001b[39m\u001b[39m.\u001b[39mdatamodule\u001b[39m.\u001b[39msetup()\n\u001b[1;32m     43\u001b[0m \u001b[39mself\u001b[39m\u001b[39m.\u001b[39menv \u001b[39m=\u001b[39m \u001b[39mself\u001b[39m\u001b[39m.\u001b[39mdatamodule\u001b[39m.\u001b[39mdata_env\u001b[39m.\u001b[39mdataset_name\n",
      "File \u001b[0;32m~/Projects/NMA-NeuroAI/ComputationThruDynamicsBenchmark/ctd/task_modeling/datamodule/task_datamodule.py:127\u001b[0m, in \u001b[0;36mTaskDataModule.prepare_data\u001b[0;34m(self)\u001b[0m\n\u001b[1;32m    125\u001b[0m \u001b[39melse\u001b[39;00m:\n\u001b[1;32m    126\u001b[0m     sub_dir \u001b[39m=\u001b[39m \u001b[39m\"\u001b[39m\u001b[39mtt\u001b[39m\u001b[39m\"\u001b[39m\n\u001b[0;32m--> 127\u001b[0m fdir \u001b[39m=\u001b[39m os\u001b[39m.\u001b[39;49mpath\u001b[39m.\u001b[39;49mjoin(HOME_DIR, \u001b[39m\"\u001b[39;49m\u001b[39mcontent\u001b[39;49m\u001b[39m\"\u001b[39;49m, \u001b[39m\"\u001b[39;49m\u001b[39mdatasets\u001b[39;49m\u001b[39m\"\u001b[39;49m, sub_dir)\n\u001b[1;32m    128\u001b[0m \u001b[39mif\u001b[39;00m \u001b[39mnot\u001b[39;00m os\u001b[39m.\u001b[39mpath\u001b[39m.\u001b[39mexists(fdir):\n\u001b[1;32m    129\u001b[0m     os\u001b[39m.\u001b[39mmakedirs(fdir, exist_ok\u001b[39m=\u001b[39m\u001b[39mTrue\u001b[39;00m)\n",
      "File \u001b[0;32m<frozen posixpath>:76\u001b[0m, in \u001b[0;36mjoin\u001b[0;34m(a, *p)\u001b[0m\n",
      "\u001b[0;31mTypeError\u001b[0m: expected str, bytes or os.PathLike object, not NoneType"
     ]
    }
   ],
   "source": [
    "import sys\n",
    "import os\n",
    "CTD_path = os.path.join(os.getcwd(), '..', 'ComputationThruDynamicsBenchmark')\n",
    "sys.path.append(CTD_path)\n",
    "from ctd.comparison.analysis.tt.tt import Analysis_TT\n",
    "\n",
    "Model_path = os.path.join(os.getcwd(), \"Models\", \"models_RT_GRU_128\",'')\n",
    "# Create the analysis object:\n",
    "analysis_RT_GRU_128 = Analysis_TT(run_name = \"GRU_128_RT\", filepath = Model_path)\n"
   ]
  }
 ],
 "metadata": {
  "language_info": {
   "name": "python"
  }
 },
 "nbformat": 4,
 "nbformat_minor": 2
}
