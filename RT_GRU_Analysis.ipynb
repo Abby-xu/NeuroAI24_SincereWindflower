{
 "cells": [
  {
   "cell_type": "code",
   "execution_count": null,
   "metadata": {},
   "outputs": [],
   "source": [
    "import pickle\n",
    "import os \n",
    "\n",
    "Model_dir = os.path.join(os.getcwd(), \"Models\", \"models_RT_GRU_128\")\n",
    "\n"
   ]
  },
  {
   "cell_type": "code",
   "execution_count": 1,
   "metadata": {},
   "outputs": [
    {
     "name": "stderr",
     "output_type": "stream",
     "text": [
      "/home/juanpbotero/Projects/NMA-NeuroAI/ComputationThruDynamicsBenchmark/ctd/task_modeling/task_env/task_env.py:334: UserWarning: To copy construct from a tensor, it is recommended to use sourceTensor.clone().detach() or sourceTensor.clone().detach().requires_grad_(True), rather than torch.tensor(sourceTensor).\n",
      "  torch.tensor(ang_targ, dtype=torch.float32, device=self.device)\n",
      "/home/juanpbotero/Projects/NMA-NeuroAI/ComputationThruDynamicsBenchmark/ctd/task_modeling/task_env/task_env.py:338: UserWarning: To copy construct from a tensor, it is recommended to use sourceTensor.clone().detach() or sourceTensor.clone().detach().requires_grad_(True), rather than torch.tensor(sourceTensor).\n",
      "  torch.tensor(angs, dtype=torch.float32, device=self.device)\n"
     ]
    }
   ],
   "source": [
    "import sys\n",
    "import os\n",
    "CTD_path = os.path.join(os.getcwd(), '..', 'ComputationThruDynamicsBenchmark')\n",
    "sys.path.append(CTD_path)\n",
    "from ctd.comparison.analysis.tt.tt import Analysis_TT\n",
    "\n",
    "Model_path = os.path.join(os.getcwd(), \"Models\", \"models_RT_GRU_128\",'')\n",
    "# Create the analysis object:\n",
    "analysis_RT_GRU_128 = Analysis_TT(run_name = \"GRU_128_RT\", filepath = Model_path)\n"
   ]
  }
 ],
 "metadata": {
  "language_info": {
   "name": "python"
  }
 },
 "nbformat": 4,
 "nbformat_minor": 2
}
